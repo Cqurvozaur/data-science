{
  "nbformat": 4,
  "nbformat_minor": 0,
  "metadata": {
    "colab": {
      "provenance": [],
      "authorship_tag": "ABX9TyNly2CG7gXpIvfMM64zTWV/",
      "include_colab_link": true
    },
    "kernelspec": {
      "name": "python3",
      "display_name": "Python 3"
    },
    "language_info": {
      "name": "python"
    }
  },
  "cells": [
    {
      "cell_type": "markdown",
      "metadata": {
        "id": "view-in-github",
        "colab_type": "text"
      },
      "source": [
        "<a href=\"https://colab.research.google.com/github/Cqurvozaur/data-science/blob/main/Untitled0.ipynb\" target=\"_parent\"><img src=\"https://colab.research.google.com/assets/colab-badge.svg\" alt=\"Open In Colab\"/></a>"
      ]
    },
    {
      "cell_type": "markdown",
      "source": [
        "9### **NumPy**\n"
      ],
      "metadata": {
        "id": "siOgPllc3CFi"
      }
    },
    {
      "cell_type": "markdown",
      "source": [
        "**Spis** **treści**:\n",
        "\n",
        "\n",
        "*   [Podstawy](https://)\n",
        "*   Typy danych\n",
        "*   Tworzenie tablic\n",
        "*   Podstawowe operacje na tablicach\n",
        "*   Generowanie liczb pseudolosowych\n",
        "*   Podstawowe funkcje\n",
        "*   Indeksowanie, Wycinanie\n",
        "*   Iteracja po tablicach\n",
        "*   Zmiana rozmiaru tablic\n",
        "*   Maski logiczne\n",
        "\n",
        "\n",
        "\n",
        "\n",
        "\n",
        "\n",
        "\n",
        "\n",
        "\n"
      ],
      "metadata": {
        "id": "t49b3Goe69K6"
      }
    },
    {
      "cell_type": "markdown",
      "source": [
        "Podstawy"
      ],
      "metadata": {
        "id": "OigzeTGM7Dw1"
      }
    },
    {
      "cell_type": "code",
      "source": [
        "import numpy as np\n",
        "np.__version__\n"
      ],
      "metadata": {
        "colab": {
          "base_uri": "https://localhost:8080/",
          "height": 35
        },
        "id": "D3NRftaJ8LQe",
        "outputId": "7c88cc4e-afc2-48a5-fcbc-9e541bab7814"
      },
      "execution_count": 1,
      "outputs": [
        {
          "output_type": "execute_result",
          "data": {
            "text/plain": [
              "'1.26.4'"
            ],
            "application/vnd.google.colaboratory.intrinsic+json": {
              "type": "string"
            }
          },
          "metadata": {},
          "execution_count": 1
        }
      ]
    },
    {
      "cell_type": "code",
      "source": [
        "dir(np)"
      ],
      "metadata": {
        "collapsed": true,
        "id": "Nlt0Y09o8rPU"
      },
      "execution_count": null,
      "outputs": []
    },
    {
      "cell_type": "code",
      "source": [
        "help (np.array)"
      ],
      "metadata": {
        "id": "8iilJ47Q9RAe"
      },
      "execution_count": null,
      "outputs": []
    },
    {
      "cell_type": "markdown",
      "source": [
        "1D Array\n",
        "\n"
      ],
      "metadata": {
        "id": "TvA3ZxFi90vm"
      }
    },
    {
      "cell_type": "code",
      "source": [
        "x = np."
      ],
      "metadata": {
        "id": "GrhbUCNf93ok"
      },
      "execution_count": null,
      "outputs": []
    },
    {
      "cell_type": "markdown",
      "source": [],
      "metadata": {
        "id": "47b24EG771zL"
      }
    }
  ]
}